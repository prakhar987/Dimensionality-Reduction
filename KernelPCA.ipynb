{
 "cells": [
  {
   "cell_type": "code",
   "execution_count": 6,
   "metadata": {
    "collapsed": true
   },
   "outputs": [],
   "source": [
    "import numpy as np # linear algebra\n",
    "import pandas as pd # data processing, CSV file I/O (e.g. pd.read_csv)\n",
    "import math"
   ]
  },
  {
   "cell_type": "code",
   "execution_count": 7,
   "metadata": {
    "collapsed": false
   },
   "outputs": [],
   "source": [
    "# Load the dataset\n",
    "train = pd.read_csv('./arcene_train.data',header=None,sep=' ')\n",
    "del train[10000] ## Some problem in reading\n",
    "train=train.as_matrix() ## Convert to numpy array"
   ]
  },
  {
   "cell_type": "code",
   "execution_count": 8,
   "metadata": {
    "collapsed": true
   },
   "outputs": [],
   "source": [
    "## Read Lables\n",
    "lines = open('./arcene_train.labels').read().splitlines()\n",
    "train_lables=lines"
   ]
  },
  {
   "cell_type": "code",
   "execution_count": 9,
   "metadata": {
    "collapsed": true
   },
   "outputs": [],
   "source": [
    "########## HELPER FUNCTIONS\n",
    "def rbfkernel(gamma, distance):\n",
    "    return np.exp(-gamma * distance)\n",
    "\n",
    "def inverse_squareform(matrix):\n",
    "    inv_sqfrm = []\n",
    "    for i in range(len(matrix)):\n",
    "        for j in range(i+1, len(matrix[i])):\n",
    "            inv_sqfrm.append(matrix[i][j])\n",
    "    inv_sqfrm = np.array(inv_sqfrm)\n",
    "    return inv_sqfrm\n",
    "\n",
    "def find_distance_matrix(data):\n",
    "    euclid_distance = []\n",
    "    for i in data:\n",
    "        distance = []\n",
    "        for j in data:\n",
    "            distance.append(np.linalg.norm(i - j) * np.linalg.norm(i - j))\n",
    "        distance = np.array(distance)\n",
    "        euclid_distance.append(distance)\n",
    "    euclid_distance = np.array(euclid_distance)\n",
    "    return euclid_distance"
   ]
  },
  {
   "cell_type": "code",
   "execution_count": 10,
   "metadata": {
    "collapsed": false
   },
   "outputs": [],
   "source": [
    "# ## Build POLYNOMIAL KERNEL Function\n",
    "# gamma=0.0001\n",
    "# K=np.zeros(shape=(100,100))\n",
    "# for i in range(0,len(train)):\n",
    "#     for j in range(0,len(train)):\n",
    "#         k = 1+ gamma*np.dot(train[i].T,train[j]) ## K(i,j) = ( 1 + x(i).T . x(j) )^p\n",
    "#         k=math.pow(k,2)\n",
    "#         K[i][j]=k\n",
    "\n",
    "## Build Kernel Matrix\n",
    "# calculate euclidean distance matrix\n",
    "distance_matrix = find_distance_matrix(train)\n",
    "\n",
    "# find variance of one dimensional distance list\n",
    "variance = np.var(inverse_squareform(distance_matrix))\n",
    "\n",
    "# calculate kernel (using rbfkernel)\n",
    "gamma = 1/(2*variance)\n",
    "K = rbfkernel(gamma, distance_matrix)"
   ]
  },
  {
   "cell_type": "code",
   "execution_count": 11,
   "metadata": {
    "collapsed": false
   },
   "outputs": [],
   "source": [
    "## Centre The Matrix\n",
    "mean=K.mean(0)\n",
    "K_centred=K-mean"
   ]
  },
  {
   "cell_type": "code",
   "execution_count": 12,
   "metadata": {
    "collapsed": false,
    "scrolled": true
   },
   "outputs": [],
   "source": [
    "## Find eign values, divide vecotrs by root lamba, sort ,pick k highest\n",
    "tmp=np.linalg.eig(K_centred) ## Using Centred Matrix to find eign values\n",
    "eign_values=tmp[0]\n",
    "eign_vector=tmp[1]\n",
    "rootlmda=np.sqrt(eign_values)\n",
    "eign_vector=eign_vector/rootlmda"
   ]
  },
  {
   "cell_type": "code",
   "execution_count": 13,
   "metadata": {
    "collapsed": false
   },
   "outputs": [],
   "source": [
    "## Choose 'k' biggest eign vectors\n",
    "num_of_comp=100\n",
    "indexes = eign_values.argsort()[::-1]\n",
    "alpha = eign_vector[:, indexes[0:num_of_comp]]"
   ]
  },
  {
   "cell_type": "code",
   "execution_count": 14,
   "metadata": {
    "collapsed": false
   },
   "outputs": [],
   "source": [
    "## Find the transformed data\n",
    "Y=np.dot(K,alpha)"
   ]
  },
  {
   "cell_type": "code",
   "execution_count": 15,
   "metadata": {
    "collapsed": true
   },
   "outputs": [],
   "source": [
    "import matplotlib.pyplot as plt\n",
    "plt.scatter(Y[:,0], Y[:,1])\n",
    "plt.show()"
   ]
  },
  {
   "cell_type": "code",
   "execution_count": 11,
   "metadata": {
    "collapsed": false
   },
   "outputs": [],
   "source": [
    "# ##  Tally Results with Scikit\n",
    "# from sklearn.decomposition import PCA, KernelPCA\n",
    "# # Reduce\n",
    "# kpca = KernelPCA(kernel=\"poly\", degree=2,n_components=2)\n",
    "# X_kpca = kpca.fit(train)\n",
    "# Z = kpca.transform(train)\n",
    "# # Plot\n",
    "# plt.scatter(Z[:,0], Z[:,1])\n",
    "# plt.show()"
   ]
  },
  {
   "cell_type": "code",
   "execution_count": 37,
   "metadata": {
    "collapsed": false
   },
   "outputs": [],
   "source": [
    "########################################## PCA IS COMPLETE ###################################"
   ]
  },
  {
   "cell_type": "code",
   "execution_count": 21,
   "metadata": {
    "collapsed": false
   },
   "outputs": [],
   "source": [
    "######### NOW DO FOR TEST DATA ################\n",
    "## Load the dataset\n",
    "test = pd.read_csv('./arcene_valid.data',header=None,sep=' ')\n",
    "del test[10000] ## Some read problem wasthere\n",
    "test=test.as_matrix() ## Convert to numpy array\n",
    "\n",
    "## Read Lables\n",
    "lines = open('./arcene_valid.labels').read().splitlines()\n",
    "test_lables=lines"
   ]
  },
  {
   "cell_type": "code",
   "execution_count": 22,
   "metadata": {
    "collapsed": false
   },
   "outputs": [],
   "source": [
    "### Polynomial Kernel Matrix\n",
    "# Ktest=np.zeros(shape=(100,100))\n",
    "# for i in range(0,len(test)):\n",
    "#     for j in range(0,len(train)):\n",
    "#         ktest = 1+gamma*np.dot(test[i].T,train[j]) ## K(i,j) = ( 1 + x(i).T . x(j) )^p\n",
    "#         ktest=math.pow(ktest,2)\n",
    "#         Ktest[i][j]=ktest\n",
    "\n",
    "### By RBF Kernel\n",
    "Ktest= []\n",
    "for i in test:\n",
    "        dist = np.array([np.sum((i - row)**2) for row in train])\n",
    "        k = rbfkernel(gamma, dist)\n",
    "        kernel = np.dot(k, alpha)\n",
    "        Ktest.append(kernel)\n",
    "\n",
    "\n",
    "## Find the transformed data\n",
    "# Ytest=np.dot(Ktest,alpha)\n",
    "Ytest=Ktest"
   ]
  },
  {
   "cell_type": "code",
   "execution_count": 23,
   "metadata": {
    "collapsed": true
   },
   "outputs": [
    {
     "ename": "TypeError",
     "evalue": "list indices must be integers or slices, not tuple",
     "output_type": "error",
     "traceback": [
      "\u001b[1;31m---------------------------------------------------------------------------\u001b[0m",
      "\u001b[1;31mTypeError\u001b[0m                                 Traceback (most recent call last)",
      "\u001b[1;32m<ipython-input-23-05f63dd0b558>\u001b[0m in \u001b[0;36m<module>\u001b[1;34m()\u001b[0m\n\u001b[0;32m      1\u001b[0m \u001b[1;32mimport\u001b[0m \u001b[0mmatplotlib\u001b[0m\u001b[1;33m.\u001b[0m\u001b[0mpyplot\u001b[0m \u001b[1;32mas\u001b[0m \u001b[0mplt\u001b[0m\u001b[1;33m\u001b[0m\u001b[0m\n\u001b[1;32m----> 2\u001b[1;33m \u001b[0mplt\u001b[0m\u001b[1;33m.\u001b[0m\u001b[0mscatter\u001b[0m\u001b[1;33m(\u001b[0m\u001b[0mYtest\u001b[0m\u001b[1;33m[\u001b[0m\u001b[1;33m:\u001b[0m\u001b[1;33m,\u001b[0m\u001b[1;36m0\u001b[0m\u001b[1;33m]\u001b[0m\u001b[1;33m,\u001b[0m \u001b[0mYtest\u001b[0m\u001b[1;33m[\u001b[0m\u001b[1;33m:\u001b[0m\u001b[1;33m,\u001b[0m\u001b[1;36m1\u001b[0m\u001b[1;33m]\u001b[0m\u001b[1;33m)\u001b[0m\u001b[1;33m\u001b[0m\u001b[0m\n\u001b[0m\u001b[0;32m      3\u001b[0m \u001b[0mplt\u001b[0m\u001b[1;33m.\u001b[0m\u001b[0mshow\u001b[0m\u001b[1;33m(\u001b[0m\u001b[1;33m)\u001b[0m\u001b[1;33m\u001b[0m\u001b[0m\n",
      "\u001b[1;31mTypeError\u001b[0m: list indices must be integers or slices, not tuple"
     ]
    }
   ],
   "source": [
    "import matplotlib.pyplot as plt\n",
    "plt.scatter(Ytest[:,0], Ytest[:,1])\n",
    "plt.show()"
   ]
  },
  {
   "cell_type": "code",
   "execution_count": 17,
   "metadata": {
    "collapsed": false
   },
   "outputs": [],
   "source": [
    "############ Now Applying SVM ###############"
   ]
  },
  {
   "cell_type": "code",
   "execution_count": 24,
   "metadata": {
    "collapsed": false
   },
   "outputs": [
    {
     "data": {
      "text/plain": [
       "0.56000000000000005"
      ]
     },
     "execution_count": 24,
     "metadata": {},
     "output_type": "execute_result"
    }
   ],
   "source": [
    "############ APPLYING SVM ####################\n",
    "from sklearn import svm\n",
    "# clf = svm.SVC(kernel='rbf',gamma=0.01) ## use linear too\n",
    "clf = svm.SVC(kernel='linear') ## use linear too\n",
    "clf.fit( Y,train_lables) ## Y is the transformed data\n",
    "clf.score(Ytest,test_lables) ## Ytest is transformed test data"
   ]
  },
  {
   "cell_type": "code",
   "execution_count": 25,
   "metadata": {
    "collapsed": false
   },
   "outputs": [],
   "source": [
    "# from sklearn.decomposition import PCA, KernelPCA\n",
    "# kpca = KernelPCA(kernel=\"poly\",degree=2, n_components=10,gamma=0.0001)\n",
    "# Train_KPCA1 = kpca.fit_transform(train)\n",
    "# Test1 = kpca.transform(train)\n",
    "# Test1[0]"
   ]
  },
  {
   "cell_type": "code",
   "execution_count": null,
   "metadata": {
    "collapsed": true
   },
   "outputs": [],
   "source": []
  }
 ],
 "metadata": {
  "anaconda-cloud": {},
  "kernelspec": {
   "display_name": "Python [Root]",
   "language": "python",
   "name": "Python [Root]"
  },
  "language_info": {
   "codemirror_mode": {
    "name": "ipython",
    "version": 3
   },
   "file_extension": ".py",
   "mimetype": "text/x-python",
   "name": "python",
   "nbconvert_exporter": "python",
   "pygments_lexer": "ipython3",
   "version": "3.5.2"
  }
 },
 "nbformat": 4,
 "nbformat_minor": 0
}
