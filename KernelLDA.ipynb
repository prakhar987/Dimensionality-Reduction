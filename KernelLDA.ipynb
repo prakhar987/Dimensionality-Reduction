{
 "cells": [
  {
   "cell_type": "code",
   "execution_count": 1,
   "metadata": {
    "collapsed": true
   },
   "outputs": [],
   "source": [
    "import numpy as np # linear algebra\n",
    "import pandas as pd # data processing, CSV file I/O (e.g. pd.read_csv)\n",
    "import math"
   ]
  },
  {
   "cell_type": "code",
   "execution_count": 2,
   "metadata": {
    "collapsed": false
   },
   "outputs": [],
   "source": [
    "# Load the dataset\n",
    "train = pd.read_csv('./arcene_train.data',header=None,sep=' ')\n",
    "del train[10000] ## Some read problem wasr=there\n",
    "train=train.as_matrix() ## Convert to numpy array"
   ]
  },
  {
   "cell_type": "code",
   "execution_count": 3,
   "metadata": {
    "collapsed": false
   },
   "outputs": [],
   "source": [
    "## Read Lables\n",
    "lines = open('./arcene_train.labels').read().splitlines()\n",
    "train_lables=lines"
   ]
  },
  {
   "cell_type": "code",
   "execution_count": 4,
   "metadata": {
    "collapsed": true
   },
   "outputs": [],
   "source": [
    "########## HELPER FUNCTIONS\n",
    "def rbfkernel(gamma, distance):\n",
    "    return np.exp(-gamma * distance)\n",
    "\n",
    "def inverse_squareform(matrix):\n",
    "    inv_sqfrm = []\n",
    "    for i in range(len(matrix)):\n",
    "        for j in range(i+1, len(matrix[i])):\n",
    "            inv_sqfrm.append(matrix[i][j])\n",
    "    inv_sqfrm = np.array(inv_sqfrm)\n",
    "    return inv_sqfrm\n",
    "\n",
    "def find_distance_matrix(data):\n",
    "    euclid_distance = []\n",
    "    for i in data:\n",
    "        distance = []\n",
    "        for j in data:\n",
    "            distance.append(np.linalg.norm(i - j) * np.linalg.norm(i - j))\n",
    "        distance = np.array(distance)\n",
    "        euclid_distance.append(distance)\n",
    "    euclid_distance = np.array(euclid_distance)\n",
    "    return euclid_distance"
   ]
  },
  {
   "cell_type": "code",
   "execution_count": 5,
   "metadata": {
    "collapsed": false
   },
   "outputs": [],
   "source": [
    "# ## Build POLYNOMIAL KERNEL Function\n",
    "# K=np.zeros(shape=(100,100))\n",
    "# for i in range(0,len(train)):\n",
    "#     for j in range(0,len(train)):\n",
    "#         k = 1+np.dot(train[i].T,train[j]) ## K(i,j) = ( 1 + x(i).T . x(j) )^p\n",
    "#         k=math.pow(k,2)\n",
    "#         K[i][j]=k\n",
    "\n",
    "## Build Kernel Matrix\n",
    "# calculate euclidean distance matrix\n",
    "distance_matrix = find_distance_matrix(train)\n",
    "\n",
    "# find variance of one dimensional distance list\n",
    "variance = np.var(inverse_squareform(distance_matrix))\n",
    "\n",
    "# calculate kernel (using rbfkernel)\n",
    "gamma = 1/(2*variance)\n",
    "K = rbfkernel(gamma, distance_matrix)"
   ]
  },
  {
   "cell_type": "code",
   "execution_count": 6,
   "metadata": {
    "collapsed": false
   },
   "outputs": [],
   "source": [
    "## Split train data according to classes\n",
    "#Add class lables to data\n",
    "df=pd.DataFrame(train)\n",
    "tmp=pd.Series(train_lables)\n",
    "df.loc[:,10000]=tmp\n",
    "#Now split as per lables\n",
    "df0=df[df[10000]=='-1'] \n",
    "df1=df[df[10000]=='1']  \n",
    "\n",
    "## Remove class lables now\n",
    "del df0[10000] ## DF containing class -1 \n",
    "del df1[10000] ## DF containing class +1\n",
    "## convert to numpy arrays\n",
    "class0=df0.as_matrix()\n",
    "class1=df1.as_matrix()"
   ]
  },
  {
   "cell_type": "code",
   "execution_count": 7,
   "metadata": {
    "collapsed": false
   },
   "outputs": [],
   "source": [
    "# calculate indexes of data points of two class\n",
    "index1 = []\n",
    "index2 = []\n",
    "for i in range(len(train_lables)):\n",
    "    if train_lables[i] == '-1':\n",
    "        index1.append(i)\n",
    "    else:\n",
    "        index2.append(i)\n",
    "    \n",
    "# calculate class based K1 and K2 for calculation of N (Within class scatter)\n",
    "K1 = []\n",
    "K2 = []\n",
    "for i in K:\n",
    "    temp1 = []\n",
    "    temp2 = []\n",
    "    for j in index1:\n",
    "        temp1.append(i[j])\n",
    "    for j in index2:\n",
    "        temp2.append(i[j])\n",
    "    K1.append(np.array(temp1))\n",
    "    K2.append(np.array(temp2))\n",
    "\n",
    "K1 = np.array(K1)\n",
    "K2 = np.array(K2)\n",
    "\n",
    "l1=len(class0)\n",
    "l2=len(class1)\n",
    "    \n",
    "# calculate A = I - 1lj for calc of N \n",
    "A1 = np.identity(l1) - ((1/float(l1)) * np.ones((l1, l1)))\n",
    "A2 = np.identity(l2) - ((1/float(l2)) * np.ones((l2, l2)))\n",
    "\n",
    "# calculate within class scatter matrix N\n",
    "N1 = np.dot(A1, K1.T)\n",
    "N1 = np.dot(K1, N1)\n",
    "\n",
    "N2 = np.dot(A2, K2.T)\n",
    "N2 = np.dot(K2, N2)\n",
    "\n",
    "N = N1 + N2\n",
    "\n",
    "# calculate N inverse for alpha calculation\n",
    "N_inv = np.linalg.inv(N)\n",
    "\n",
    "# calculate M1 and M2\n",
    "M1 = []\n",
    "M2 = []\n",
    "for i in range(len(K1)):\n",
    "    M1.append(np.sum(K1[i])/float(l1))\n",
    "for i in range(len(K2)):\n",
    "    M2.append(np.sum(K2[i])/float(l2))\n",
    "M1 = np.array(M1)\n",
    "M2 = np.array(M2)\n",
    "\n",
    "# calculating alpha\n",
    "M_diff = M2 - M1\n",
    "alpha = np.dot(N_inv, M_diff)\n",
    "\n",
    "### Calculate Projection\n",
    "Y = []\n",
    "for i in K:\n",
    "    temp = 0\n",
    "    for j in range(len(i)):\n",
    "        temp += alpha[j] * i[j]\n",
    "    Y.append(temp)\n",
    "Y = np.array(Y)"
   ]
  },
  {
   "cell_type": "code",
   "execution_count": 8,
   "metadata": {
    "collapsed": false
   },
   "outputs": [],
   "source": [
    "import matplotlib.pyplot as plt\n",
    "# class1 = plt.plot([Data[i] for i in range(len(Data)) if labels[i] == -1], 'ro')\n",
    "# class2 = plt.plot([Data[i] for i in range(len(Data)) if labels[i] == 1], 'ro')\n",
    "# plt.setp(class1, color='red')\n",
    "# plt.setp(class2, color='blue')\n",
    "\n",
    "C1 = [Y[i] for i in range(len(Y)) if train_lables[i] == '-1']\n",
    "C2 = [Y[i] for i in range(len(Y)) if train_lables[i] == '1']\n",
    "plt.scatter(C1, len(C1)*[0], color ='red')\n",
    "plt.scatter(C2, len(C2)*[0], color ='blue')\n",
    "# plt.scatter(Y, len(Y)*[0], color ='red') ## One colour\n",
    "plt.show()"
   ]
  },
  {
   "cell_type": "code",
   "execution_count": 9,
   "metadata": {
    "collapsed": true
   },
   "outputs": [],
   "source": [
    "######### NOW DO FOR TEST DATA ################\n",
    "## Load the dataset\n",
    "test = pd.read_csv('./arcene_valid.data',header=None,sep=' ')\n",
    "del test[10000] ## Some read problem wasthere\n",
    "test=test.as_matrix() ## Convert to numpy array\n",
    "\n",
    "## Read Lables\n",
    "lines = open('./arcene_valid.labels').read().splitlines()\n",
    "test_lables=lines\n"
   ]
  },
  {
   "cell_type": "code",
   "execution_count": 10,
   "metadata": {
    "collapsed": false
   },
   "outputs": [],
   "source": [
    "# Ktest=np.zeros(shape=(100,100))\n",
    "# for i in range(0,len(test)):\n",
    "#     for j in range(0,len(train)):\n",
    "#         ktest = 1+np.dot(test[i].T,train[j]) ## K(i,j) = ( 1 + x(i).T . x(j) )^p\n",
    "#         ktest=math.pow(ktest,2)\n",
    "#         Ktest[i][j]=ktest\n",
    "\n",
    "## By RBF Kernel\n",
    "Ktest= []\n",
    "for i in test:\n",
    "        dist = np.array([np.sum((i - row)**2) for row in train])\n",
    "        k = np.exp(-gamma * dist)\n",
    "        Ktest.append(k)\n",
    "\n",
    "Ytest = []\n",
    "for i in Ktest:\n",
    "        temp = 0\n",
    "        for j in range(len(i)):\n",
    "            temp += alpha[j] * i[j]\n",
    "        Ytest.append(temp)\n",
    "Ytest= np.array(Ytest)"
   ]
  },
  {
   "cell_type": "code",
   "execution_count": 11,
   "metadata": {
    "collapsed": true
   },
   "outputs": [],
   "source": [
    "import matplotlib.pyplot as plt\n",
    "\n",
    "C1 = [Ytest[i] for i in range(len(Ytest)) if test_lables[i] == '-1']\n",
    "C2 = [Ytest[i] for i in range(len(Ytest)) if test_lables[i] == '1']\n",
    "plt.scatter(C1, len(C1)*[0], color ='red')\n",
    "plt.scatter(C2, len(C2)*[0], color ='blue')\n",
    "# plt.scatter(Ytest, len(Y)*[0], color ='red') ## One colour\n",
    "plt.show()"
   ]
  },
  {
   "cell_type": "code",
   "execution_count": 10,
   "metadata": {
    "collapsed": false
   },
   "outputs": [
    {
     "data": {
      "text/plain": [
       "0.56000000000000005"
      ]
     },
     "execution_count": 10,
     "metadata": {},
     "output_type": "execute_result"
    }
   ],
   "source": [
    "############# APPLYING SVM ####################\n",
    "from sklearn import svm\n",
    "clf = svm.SVC(kernel='rbf',gamma=0.01) ## use linear too\n",
    "# clf = svm.SVC(kernel='linear') ## use linear too\n",
    "clf.fit( Y.reshape(100,1),train_lables) ## Y is the transformed data\n",
    "clf.score(Ytest.reshape(100,1),test_lables) ## Ytest is transformed test data"
   ]
  },
  {
   "cell_type": "code",
   "execution_count": null,
   "metadata": {
    "collapsed": true
   },
   "outputs": [],
   "source": []
  }
 ],
 "metadata": {
  "anaconda-cloud": {},
  "kernelspec": {
   "display_name": "Python [Root]",
   "language": "python",
   "name": "Python [Root]"
  },
  "language_info": {
   "codemirror_mode": {
    "name": "ipython",
    "version": 3
   },
   "file_extension": ".py",
   "mimetype": "text/x-python",
   "name": "python",
   "nbconvert_exporter": "python",
   "pygments_lexer": "ipython3",
   "version": "3.5.2"
  }
 },
 "nbformat": 4,
 "nbformat_minor": 0
}
